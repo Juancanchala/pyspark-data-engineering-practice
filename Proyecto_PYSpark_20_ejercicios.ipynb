{
  "nbformat": 4,
  "nbformat_minor": 0,
  "metadata": {
    "colab": {
      "provenance": []
    },
    "kernelspec": {
      "name": "python3",
      "display_name": "Python 3"
    },
    "language_info": {
      "name": "python"
    }
  },
  "cells": [
    {
      "cell_type": "code",
      "execution_count": 1,
      "metadata": {
        "colab": {
          "base_uri": "https://localhost:8080/"
        },
        "id": "RXYpn6MKz2Al",
        "outputId": "30738d2c-c70e-4354-b1ad-b5e4201754cb"
      },
      "outputs": [
        {
          "output_type": "stream",
          "name": "stdout",
          "text": [
            "🚀 INSTALANDO PYSPARK EN GOOGLE COLAB\n",
            "==================================================\n",
            "Requirement already satisfied: pyspark in /usr/local/lib/python3.11/dist-packages (3.5.1)\n",
            "Requirement already satisfied: py4j==0.10.9.7 in /usr/local/lib/python3.11/dist-packages (from pyspark) (0.10.9.7)\n",
            "✅ PySpark configurado exitosamente\n",
            "✅ Spark version: 3.5.1\n"
          ]
        }
      ],
      "source": [
        "# ===================================================================\n",
        "# PROYECTO PYSPARK - 20 EJERCICIOS FUNDAMENTALES\n",
        "# ===================================================================\n",
        "# Autor: Juan Camilo Canchala\n",
        "# Fecha: Agosto 2024\n",
        "# Objetivo: Dominar operaciones básicas de PySpark para Data Engineering\n",
        "\n",
        "print(\"🚀 INSTALANDO PYSPARK EN GOOGLE COLAB\")\n",
        "print(\"=\" * 50)\n",
        "\n",
        "# Instalar PySpark\n",
        "!pip install pyspark\n",
        "\n",
        "# Importar bibliotecas necesarias\n",
        "from pyspark.sql import SparkSession\n",
        "from pyspark.sql.functions import col, avg, sum as spark_sum, min as spark_min, max as spark_max, count, concat, lit, when\n",
        "from pyspark.sql.types import StructType, StructField, StringType, IntegerType\n",
        "\n",
        "# Crear SparkSession\n",
        "spark = SparkSession.builder \\\n",
        "    .appName(\"ProyectoPySpark\") \\\n",
        "    .getOrCreate()\n",
        "\n",
        "print(\"✅ PySpark configurado exitosamente\")\n",
        "print(f\"✅ Spark version: {spark.version}\")"
      ]
    },
    {
      "cell_type": "code",
      "source": [
        "\n",
        "# EJERCICIO 1: CREAR DATAFRAME CON DATOS DE PERSONAS\n",
        "\n",
        "\n",
        "print(\"Ejercicio 1: Crear DataFrame con datos de personas\")\n",
        "print(\"-\" * 50)\n",
        "\n",
        "# Datos según la práctica original\n",
        "data = [(\"Alice\", 25, \"New York\"),\n",
        "        (\"Bob\", 30, \"Los Angeles\"),\n",
        "        (\"Charlie\", 22, \"Chicago\")]\n",
        "\n",
        "# Definir esquema explícito\n",
        "schema = StructType([\n",
        "    StructField(\"Nombre\", StringType(), True),\n",
        "    StructField(\"Edad\", IntegerType(), True),\n",
        "    StructField(\"Ciudad\", StringType(), True)\n",
        "])\n",
        "\n",
        "# Crear DataFrame\n",
        "df = spark.createDataFrame(data, schema)\n",
        "\n",
        "# Mostrar el DataFrame\n",
        "print(\"DataFrame creado exitosamente:\")\n",
        "df.show()\n",
        "\n",
        "print(f\"Número de filas: {df.count()}\")\n",
        "print(f\"Esquema: {df.columns}\")"
      ],
      "metadata": {
        "colab": {
          "base_uri": "https://localhost:8080/"
        },
        "id": "-9O64hbq0glE",
        "outputId": "ffc4ad89-3776-4449-d538-d1b81d76e52b"
      },
      "execution_count": 2,
      "outputs": [
        {
          "output_type": "stream",
          "name": "stdout",
          "text": [
            "Ejercicio 1: Crear DataFrame con datos de personas\n",
            "--------------------------------------------------\n",
            "DataFrame creado exitosamente:\n",
            "+-------+----+-----------+\n",
            "| Nombre|Edad|     Ciudad|\n",
            "+-------+----+-----------+\n",
            "|  Alice|  25|   New York|\n",
            "|    Bob|  30|Los Angeles|\n",
            "|Charlie|  22|    Chicago|\n",
            "+-------+----+-----------+\n",
            "\n",
            "Número de filas: 3\n",
            "Esquema: ['Nombre', 'Edad', 'Ciudad']\n"
          ]
        }
      ]
    },
    {
      "cell_type": "code",
      "source": [
        "\n",
        "# EJERCICIO 2: MOSTRAR SOLO LOS NOMBRES DE LAS PERSONAS\n",
        "\n",
        "\n",
        "print(\"Ejercicio 2: Mostrar solo los nombres de las personas del DataFrame\")\n",
        "print(\"-\" * 70)\n",
        "\n",
        "# Seleccionar solo la columna Nombre\n",
        "nombres_df = df.select(\"Nombre\")\n",
        "nombres_df.show()\n",
        "\n",
        "print(f\"Total de nombres mostrados: {nombres_df.count()}\")"
      ],
      "metadata": {
        "colab": {
          "base_uri": "https://localhost:8080/"
        },
        "id": "Y9FoZ8Yr081m",
        "outputId": "b640d934-21da-4ef9-fdbe-85d03ee9050c"
      },
      "execution_count": 3,
      "outputs": [
        {
          "output_type": "stream",
          "name": "stdout",
          "text": [
            "Ejercicio 2: Mostrar solo los nombres de las personas del DataFrame\n",
            "----------------------------------------------------------------------\n",
            "+-------+\n",
            "| Nombre|\n",
            "+-------+\n",
            "|  Alice|\n",
            "|    Bob|\n",
            "|Charlie|\n",
            "+-------+\n",
            "\n",
            "Total de nombres mostrados: 3\n"
          ]
        }
      ]
    },
    {
      "cell_type": "code",
      "source": [
        "# Ejercicio 3: Filtrar personas cuya edad sea mayor o igual a 25\n",
        "\n",
        "print(\"Ejercicio 3: Filtrar personas cuya edad sea mayor o igual a 25\")\n",
        "print(\"-\" * 60)\n",
        "\n",
        "# Filtrar el DataFrame por edad >= 25\n",
        "personas_25_mas = df.filter(col(\"Edad\") >= 25)\n",
        "personas_25_mas.show()\n",
        "\n",
        "print(f\"Personas con edad >= 25: {personas_25_mas.count()}\")"
      ],
      "metadata": {
        "colab": {
          "base_uri": "https://localhost:8080/"
        },
        "id": "Z9gXZ3IQ1JjO",
        "outputId": "4492176b-a093-4457-ed67-749d9a9777dc"
      },
      "execution_count": 4,
      "outputs": [
        {
          "output_type": "stream",
          "name": "stdout",
          "text": [
            "Ejercicio 3: Filtrar personas cuya edad sea mayor o igual a 25\n",
            "------------------------------------------------------------\n",
            "+------+----+-----------+\n",
            "|Nombre|Edad|     Ciudad|\n",
            "+------+----+-----------+\n",
            "| Alice|  25|   New York|\n",
            "|   Bob|  30|Los Angeles|\n",
            "+------+----+-----------+\n",
            "\n",
            "Personas con edad >= 25: 2\n"
          ]
        }
      ]
    },
    {
      "cell_type": "code",
      "source": [
        "# Ejercicio 4: Agregar una nueva columna \"Pais\" con un valor constante para todas las filas\n",
        "\n",
        "print(\"Ejercicio 4: Agregar una nueva columna 'Pais' con un valor constante para todas las filas\")\n",
        "print(\"-\" * 80)\n",
        "\n",
        "# Agregar columna \"Pais\" con valor constante \"USA\"\n",
        "df_con_pais = df.withColumn(\"Pais\", lit(\"USA\"))\n",
        "df_con_pais.show()\n",
        "\n",
        "print(f\"DataFrame ahora tiene {len(df_con_pais.columns)} columnas: {df_con_pais.columns}\")"
      ],
      "metadata": {
        "colab": {
          "base_uri": "https://localhost:8080/"
        },
        "id": "QIA6TEFF1P4W",
        "outputId": "8f25ac88-c212-4130-c4fc-7fa94cebc877"
      },
      "execution_count": 5,
      "outputs": [
        {
          "output_type": "stream",
          "name": "stdout",
          "text": [
            "Ejercicio 4: Agregar una nueva columna 'Pais' con un valor constante para todas las filas\n",
            "--------------------------------------------------------------------------------\n",
            "+-------+----+-----------+----+\n",
            "| Nombre|Edad|     Ciudad|Pais|\n",
            "+-------+----+-----------+----+\n",
            "|  Alice|  25|   New York| USA|\n",
            "|    Bob|  30|Los Angeles| USA|\n",
            "|Charlie|  22|    Chicago| USA|\n",
            "+-------+----+-----------+----+\n",
            "\n",
            "DataFrame ahora tiene 4 columnas: ['Nombre', 'Edad', 'Ciudad', 'Pais']\n"
          ]
        }
      ]
    },
    {
      "cell_type": "code",
      "source": [
        "# Ejercicio 5: Calcular el promedio de edad de todas las personas\n",
        "\n",
        "print(\"Ejercicio 5: Calcular el promedio de edad de todas las personas\")\n",
        "print(\"-\" * 60)\n",
        "\n",
        "# Calcular promedio de edad\n",
        "promedio_resultado = df.select(avg(\"Edad\").alias(\"PromedioEdad\"))\n",
        "promedio_resultado.show()\n",
        "\n",
        "# También mostrar el valor extraído\n",
        "promedio_valor = promedio_resultado.collect()[0][\"PromedioEdad\"]\n",
        "print(f\"El promedio de edad es: {promedio_valor:.2f} años\")"
      ],
      "metadata": {
        "colab": {
          "base_uri": "https://localhost:8080/"
        },
        "id": "pRByEa6j1S9y",
        "outputId": "8ea6de09-9a24-42a1-9f17-1446dbf3ba51"
      },
      "execution_count": 6,
      "outputs": [
        {
          "output_type": "stream",
          "name": "stdout",
          "text": [
            "Ejercicio 5: Calcular el promedio de edad de todas las personas\n",
            "------------------------------------------------------------\n",
            "+------------------+\n",
            "|      PromedioEdad|\n",
            "+------------------+\n",
            "|25.666666666666668|\n",
            "+------------------+\n",
            "\n",
            "El promedio de edad es: 25.67 años\n"
          ]
        }
      ]
    },
    {
      "cell_type": "code",
      "source": [
        "# Ejercicio 6: Ordenar el DataFrame por edad en orden descendente\n",
        "\n",
        "print(\"Ejercicio 6: Ordenar el DataFrame por edad en orden descendente\")\n",
        "print(\"-\" * 60)\n",
        "\n",
        "# Ordenar por edad descendente\n",
        "df_ordenado = df.orderBy(col(\"Edad\").desc())\n",
        "df_ordenado.show()\n",
        "\n",
        "print(\"Orden: Mayor a menor edad\")"
      ],
      "metadata": {
        "colab": {
          "base_uri": "https://localhost:8080/"
        },
        "id": "qrNJgmlC1WYp",
        "outputId": "c3822cf9-2dfa-40df-adcd-0be66a58283e"
      },
      "execution_count": 7,
      "outputs": [
        {
          "output_type": "stream",
          "name": "stdout",
          "text": [
            "Ejercicio 6: Ordenar el DataFrame por edad en orden descendente\n",
            "------------------------------------------------------------\n",
            "+-------+----+-----------+\n",
            "| Nombre|Edad|     Ciudad|\n",
            "+-------+----+-----------+\n",
            "|    Bob|  30|Los Angeles|\n",
            "|  Alice|  25|   New York|\n",
            "|Charlie|  22|    Chicago|\n",
            "+-------+----+-----------+\n",
            "\n",
            "Orden: Mayor a menor edad\n"
          ]
        }
      ]
    },
    {
      "cell_type": "code",
      "source": [
        "# Ejercicio 7: Agrupar por ciudad y calcular la cantidad de personas en cada ciudad\n",
        "\n",
        "print(\"Ejercicio 7: Agrupar por ciudad y calcular la cantidad de personas en cada ciudad\")\n",
        "print(\"-\" * 75)\n",
        "\n",
        "# Agrupar por ciudad y contar\n",
        "personas_por_ciudad = df.groupBy(\"Ciudad\").count()\n",
        "personas_por_ciudad.show()\n",
        "\n",
        "print(\"Cada ciudad tiene 1 persona en este dataset\")"
      ],
      "metadata": {
        "colab": {
          "base_uri": "https://localhost:8080/"
        },
        "id": "xHnI0rcd1fAc",
        "outputId": "6bbd4f09-9a72-4622-9538-d0ba6635ebec"
      },
      "execution_count": 8,
      "outputs": [
        {
          "output_type": "stream",
          "name": "stdout",
          "text": [
            "Ejercicio 7: Agrupar por ciudad y calcular la cantidad de personas en cada ciudad\n",
            "---------------------------------------------------------------------------\n",
            "+-----------+-----+\n",
            "|     Ciudad|count|\n",
            "+-----------+-----+\n",
            "|   New York|    1|\n",
            "|Los Angeles|    1|\n",
            "|    Chicago|    1|\n",
            "+-----------+-----+\n",
            "\n",
            "Cada ciudad tiene 1 persona en este dataset\n"
          ]
        }
      ]
    },
    {
      "cell_type": "code",
      "source": [
        "# Ejercicio 8: Renombrar la columna \"Nombre\" a \"NombreCompleto\"\n",
        "\n",
        "print(\"Ejercicio 8: Renombrar la columna 'Nombre' a 'NombreCompleto'\")\n",
        "print(\"-\" * 60)\n",
        "\n",
        "# Renombrar columna\n",
        "df_renombrado = df.withColumnRenamed(\"Nombre\", \"NombreCompleto\")\n",
        "df_renombrado.show()\n",
        "\n",
        "print(f\"Columnas actuales: {df_renombrado.columns}\")"
      ],
      "metadata": {
        "colab": {
          "base_uri": "https://localhost:8080/"
        },
        "id": "IiPtc7dT1l6G",
        "outputId": "ea64c93a-1a22-4785-fd3a-38b55c8c4dae"
      },
      "execution_count": 9,
      "outputs": [
        {
          "output_type": "stream",
          "name": "stdout",
          "text": [
            "Ejercicio 8: Renombrar la columna 'Nombre' a 'NombreCompleto'\n",
            "------------------------------------------------------------\n",
            "+--------------+----+-----------+\n",
            "|NombreCompleto|Edad|     Ciudad|\n",
            "+--------------+----+-----------+\n",
            "|         Alice|  25|   New York|\n",
            "|           Bob|  30|Los Angeles|\n",
            "|       Charlie|  22|    Chicago|\n",
            "+--------------+----+-----------+\n",
            "\n",
            "Columnas actuales: ['NombreCompleto', 'Edad', 'Ciudad']\n"
          ]
        }
      ]
    },
    {
      "cell_type": "code",
      "source": [
        "# Ejercicio 9: Eliminar la columna \"Edad\" del DataFrame\n",
        "\n",
        "print(\"Ejercicio 9: Eliminar la columna 'Edad' del DataFrame\")\n",
        "print(\"-\" * 50)\n",
        "\n",
        "# Eliminar columna Edad\n",
        "df_sin_edad = df.drop(\"Edad\")\n",
        "df_sin_edad.show()\n",
        "\n",
        "print(f\"Columnas restantes: {df_sin_edad.columns}\")"
      ],
      "metadata": {
        "colab": {
          "base_uri": "https://localhost:8080/"
        },
        "id": "hW1o75cj1oI6",
        "outputId": "31fe6173-a628-4034-8f04-02b2b4bac76a"
      },
      "execution_count": 10,
      "outputs": [
        {
          "output_type": "stream",
          "name": "stdout",
          "text": [
            "Ejercicio 9: Eliminar la columna 'Edad' del DataFrame\n",
            "--------------------------------------------------\n",
            "+-------+-----------+\n",
            "| Nombre|     Ciudad|\n",
            "+-------+-----------+\n",
            "|  Alice|   New York|\n",
            "|    Bob|Los Angeles|\n",
            "|Charlie|    Chicago|\n",
            "+-------+-----------+\n",
            "\n",
            "Columnas restantes: ['Nombre', 'Ciudad']\n"
          ]
        }
      ]
    },
    {
      "cell_type": "code",
      "source": [
        "# Ejercicio 10: Realizar una consulta SQL en el DataFrame para seleccionar personas mayores de 20 años\n",
        "\n",
        "print(\"Ejercicio 10: Realizar una consulta SQL en el DataFrame para seleccionar personas mayores de 20 años\")\n",
        "print(\"-\" * 95)\n",
        "\n",
        "# Crear vista temporal para consulta SQL\n",
        "df.createOrReplaceTempView(\"personas\")\n",
        "\n",
        "# Ejecutar consulta SQL\n",
        "resultado_sql = spark.sql(\"SELECT * FROM personas WHERE Edad > 20\")\n",
        "resultado_sql.show()\n",
        "\n",
        "print(\"Consulta SQL ejecutada: SELECT * FROM personas WHERE Edad > 20\")"
      ],
      "metadata": {
        "colab": {
          "base_uri": "https://localhost:8080/"
        },
        "id": "DtxqXS8z1rkx",
        "outputId": "c5a410f8-11bf-4acd-f4c9-79429d18a233"
      },
      "execution_count": 11,
      "outputs": [
        {
          "output_type": "stream",
          "name": "stdout",
          "text": [
            "Ejercicio 10: Realizar una consulta SQL en el DataFrame para seleccionar personas mayores de 20 años\n",
            "-----------------------------------------------------------------------------------------------\n",
            "+-------+----+-----------+\n",
            "| Nombre|Edad|     Ciudad|\n",
            "+-------+----+-----------+\n",
            "|  Alice|  25|   New York|\n",
            "|    Bob|  30|Los Angeles|\n",
            "|Charlie|  22|    Chicago|\n",
            "+-------+----+-----------+\n",
            "\n",
            "Consulta SQL ejecutada: SELECT * FROM personas WHERE Edad > 20\n"
          ]
        }
      ]
    },
    {
      "cell_type": "code",
      "source": [
        "# Ejercicio 11: Calcular la suma total de todas las edades\n",
        "\n",
        "print(\"Ejercicio 11: Calcular la suma total de todas las edades\")\n",
        "print(\"-\" * 50)\n",
        "\n",
        "# Calcular suma de edades\n",
        "suma_resultado = df.select(spark_sum(\"Edad\").alias(\"SumaEdades\"))\n",
        "suma_resultado.show()\n",
        "\n",
        "# También mostrar el valor extraído\n",
        "suma_valor = suma_resultado.collect()[0][\"SumaEdades\"]\n",
        "print(f\"La suma total de edades es: {suma_valor} años\")"
      ],
      "metadata": {
        "colab": {
          "base_uri": "https://localhost:8080/"
        },
        "id": "WKITfIm71wSR",
        "outputId": "afefc989-31a9-4879-dbf4-1b3eb5440b58"
      },
      "execution_count": 12,
      "outputs": [
        {
          "output_type": "stream",
          "name": "stdout",
          "text": [
            "Ejercicio 11: Calcular la suma total de todas las edades\n",
            "--------------------------------------------------\n",
            "+----------+\n",
            "|SumaEdades|\n",
            "+----------+\n",
            "|        77|\n",
            "+----------+\n",
            "\n",
            "La suma total de edades es: 77 años\n"
          ]
        }
      ]
    },
    {
      "cell_type": "code",
      "source": [
        "# Ejercicio 12: Calcular la edad mínima y máxima de todas las personas\n",
        "\n",
        "print(\"Ejercicio 12: Calcular la edad mínima y máxima de todas las personas\")\n",
        "print(\"-\" * 65)\n",
        "\n",
        "# Calcular min y max de edades\n",
        "min_max_resultado = df.select(\n",
        "    spark_min(\"Edad\").alias(\"EdadMinima\"),\n",
        "    spark_max(\"Edad\").alias(\"EdadMaxima\")\n",
        ")\n",
        "min_max_resultado.show()\n",
        "\n",
        "# Mostrar valores extraídos\n",
        "valores = min_max_resultado.collect()[0]\n",
        "print(f\"Edad mínima: {valores['EdadMinima']} años\")\n",
        "print(f\"Edad máxima: {valores['EdadMaxima']} años\")"
      ],
      "metadata": {
        "colab": {
          "base_uri": "https://localhost:8080/"
        },
        "id": "FGyqed311zAU",
        "outputId": "432b62c8-6a27-4303-80e4-b6245bff7d0e"
      },
      "execution_count": 13,
      "outputs": [
        {
          "output_type": "stream",
          "name": "stdout",
          "text": [
            "Ejercicio 12: Calcular la edad mínima y máxima de todas las personas\n",
            "-----------------------------------------------------------------\n",
            "+----------+----------+\n",
            "|EdadMinima|EdadMaxima|\n",
            "+----------+----------+\n",
            "|        22|        30|\n",
            "+----------+----------+\n",
            "\n",
            "Edad mínima: 22 años\n",
            "Edad máxima: 30 años\n"
          ]
        }
      ]
    },
    {
      "cell_type": "code",
      "source": [
        "# Ejercicio 13: Filtrar personas cuya ciudad de residencia sea \"Chicago\" y edad sea menor de 30\n",
        "\n",
        "print(\"Ejercicio 13: Filtrar personas cuya ciudad de residencia sea 'Chicago' y edad sea menor de 30\")\n",
        "print(\"-\" * 90)\n",
        "\n",
        "# Filtrar por ciudad Chicago Y edad < 30\n",
        "chicago_menores_30 = df.filter((col(\"Ciudad\") == \"Chicago\") & (col(\"Edad\") < 30))\n",
        "chicago_menores_30.show()\n",
        "\n",
        "print(f\"Personas de Chicago menores de 30: {chicago_menores_30.count()}\")"
      ],
      "metadata": {
        "colab": {
          "base_uri": "https://localhost:8080/"
        },
        "id": "6Ue_o0gR12m6",
        "outputId": "50ee7666-5a12-443a-d4f1-47105c185dfb"
      },
      "execution_count": 14,
      "outputs": [
        {
          "output_type": "stream",
          "name": "stdout",
          "text": [
            "Ejercicio 13: Filtrar personas cuya ciudad de residencia sea 'Chicago' y edad sea menor de 30\n",
            "------------------------------------------------------------------------------------------\n",
            "+-------+----+-------+\n",
            "| Nombre|Edad| Ciudad|\n",
            "+-------+----+-------+\n",
            "|Charlie|  22|Chicago|\n",
            "+-------+----+-------+\n",
            "\n",
            "Personas de Chicago menores de 30: 1\n"
          ]
        }
      ]
    },
    {
      "cell_type": "code",
      "source": [
        "# Ejercicio 14: Agregar una nueva columna \"EdadDuplicada\" que contenga el doble de la edad\n",
        "\n",
        "print(\"Ejercicio 14: Agregar una nueva columna 'EdadDuplicada' que contenga el doble de la edad\")\n",
        "print(\"-\" * 85)\n",
        "\n",
        "# Agregar columna con el doble de la edad\n",
        "df_con_edad_duplicada = df.withColumn(\"EdadDuplicada\", col(\"Edad\") * 2)\n",
        "df_con_edad_duplicada.show()\n",
        "\n",
        "print(\"Nueva columna 'EdadDuplicada' agregada con éxito\")"
      ],
      "metadata": {
        "colab": {
          "base_uri": "https://localhost:8080/"
        },
        "id": "a42yirlM16M_",
        "outputId": "83029516-3ae2-4629-df57-e6f64a761030"
      },
      "execution_count": 15,
      "outputs": [
        {
          "output_type": "stream",
          "name": "stdout",
          "text": [
            "Ejercicio 14: Agregar una nueva columna 'EdadDuplicada' que contenga el doble de la edad\n",
            "-------------------------------------------------------------------------------------\n",
            "+-------+----+-----------+-------------+\n",
            "| Nombre|Edad|     Ciudad|EdadDuplicada|\n",
            "+-------+----+-----------+-------------+\n",
            "|  Alice|  25|   New York|           50|\n",
            "|    Bob|  30|Los Angeles|           60|\n",
            "|Charlie|  22|    Chicago|           44|\n",
            "+-------+----+-----------+-------------+\n",
            "\n",
            "Nueva columna 'EdadDuplicada' agregada con éxito\n"
          ]
        }
      ]
    },
    {
      "cell_type": "code",
      "source": [
        "# Ejercicio 15: Convertir todas las edades en años a meses\n",
        "\n",
        "print(\"Ejercicio 15: Convertir todas las edades en años a meses\")\n",
        "print(\"-\" * 50)\n",
        "\n",
        "# Convertir años a meses (multiplicar por 12)\n",
        "df_con_meses = df.withColumn(\"EdadEnMeses\", col(\"Edad\") * 12)\n",
        "df_con_meses.show()\n",
        "\n",
        "print(\"Edades convertidas a meses (Edad × 12)\")"
      ],
      "metadata": {
        "colab": {
          "base_uri": "https://localhost:8080/"
        },
        "id": "qR2snoaD18QF",
        "outputId": "13e58b77-8e2e-4099-c969-f05d97292f40"
      },
      "execution_count": 16,
      "outputs": [
        {
          "output_type": "stream",
          "name": "stdout",
          "text": [
            "Ejercicio 15: Convertir todas las edades en años a meses\n",
            "--------------------------------------------------\n",
            "+-------+----+-----------+-----------+\n",
            "| Nombre|Edad|     Ciudad|EdadEnMeses|\n",
            "+-------+----+-----------+-----------+\n",
            "|  Alice|  25|   New York|        300|\n",
            "|    Bob|  30|Los Angeles|        360|\n",
            "|Charlie|  22|    Chicago|        264|\n",
            "+-------+----+-----------+-----------+\n",
            "\n",
            "Edades convertidas a meses (Edad × 12)\n"
          ]
        }
      ]
    },
    {
      "cell_type": "code",
      "source": [
        "# Ejercicio 16: Contar el número total de personas en el DataFrame\n",
        "\n",
        "print(\"Ejercicio 16: Contar el número total de personas en el DataFrame\")\n",
        "print(\"-\" * 60)\n",
        "\n",
        "# Contar total de personas\n",
        "total_personas = df.count()\n",
        "print(f\"Número total de personas: {total_personas}\")\n",
        "\n",
        "# También usando select con count\n",
        "df.select(count(\"*\").alias(\"TotalPersonas\")).show()"
      ],
      "metadata": {
        "colab": {
          "base_uri": "https://localhost:8080/"
        },
        "id": "VcPknKrJ2A-7",
        "outputId": "a76fe3b7-2f1d-45b6-941c-73779ffdaab9"
      },
      "execution_count": 17,
      "outputs": [
        {
          "output_type": "stream",
          "name": "stdout",
          "text": [
            "Ejercicio 16: Contar el número total de personas en el DataFrame\n",
            "------------------------------------------------------------\n",
            "Número total de personas: 3\n",
            "+-------------+\n",
            "|TotalPersonas|\n",
            "+-------------+\n",
            "|            3|\n",
            "+-------------+\n",
            "\n"
          ]
        }
      ]
    },
    {
      "cell_type": "code",
      "source": [
        "# Ejercicio 17: Filtrar personas cuya edad sea un número par\n",
        "\n",
        "print(\"Ejercicio 17: Filtrar personas cuya edad sea un número par\")\n",
        "print(\"-\" * 55)\n",
        "\n",
        "# Filtrar edades pares (resto de división por 2 = 0)\n",
        "personas_edad_par = df.filter(col(\"Edad\") % 2 == 0)\n",
        "personas_edad_par.show()\n",
        "\n",
        "print(f\"Personas con edad par: {personas_edad_par.count()}\")"
      ],
      "metadata": {
        "colab": {
          "base_uri": "https://localhost:8080/"
        },
        "id": "aDiZyo2B2E6J",
        "outputId": "fde10f10-8e17-4a30-e18c-49d7db0509db"
      },
      "execution_count": 18,
      "outputs": [
        {
          "output_type": "stream",
          "name": "stdout",
          "text": [
            "Ejercicio 17: Filtrar personas cuya edad sea un número par\n",
            "-------------------------------------------------------\n",
            "+-------+----+-----------+\n",
            "| Nombre|Edad|     Ciudad|\n",
            "+-------+----+-----------+\n",
            "|    Bob|  30|Los Angeles|\n",
            "|Charlie|  22|    Chicago|\n",
            "+-------+----+-----------+\n",
            "\n",
            "Personas con edad par: 2\n"
          ]
        }
      ]
    },
    {
      "cell_type": "code",
      "source": [
        "# Ejercicio 18: Calcular la cantidad de personas por rango de edades (0-20, 21-40, 41-60, 61+)\n",
        "\n",
        "print(\"Ejercicio 18: Calcular la cantidad de personas por rango de edades (0-20, 21-40, 41-60, 61+)\")\n",
        "print(\"-\" * 90)\n",
        "\n",
        "# Crear columna con rangos de edad usando when\n",
        "df_con_rangos = df.withColumn(\"RangoEdad\",\n",
        "    when(col(\"Edad\") <= 20, \"0-20\")\n",
        "    .when(col(\"Edad\") <= 40, \"21-40\")\n",
        "    .when(col(\"Edad\") <= 60, \"41-60\")\n",
        "    .otherwise(\"61+\")\n",
        ")\n",
        "\n",
        "# Agrupar por rango y contar\n",
        "rangos_resultado = df_con_rangos.groupBy(\"RangoEdad\").count()\n",
        "rangos_resultado.show()\n",
        "\n",
        "print(\"Distribución de personas por rango de edad\")"
      ],
      "metadata": {
        "colab": {
          "base_uri": "https://localhost:8080/"
        },
        "id": "eol9HUm32G2Y",
        "outputId": "b8430f06-cf10-422e-9d12-14e2ca310eab"
      },
      "execution_count": 19,
      "outputs": [
        {
          "output_type": "stream",
          "name": "stdout",
          "text": [
            "Ejercicio 18: Calcular la cantidad de personas por rango de edades (0-20, 21-40, 41-60, 61+)\n",
            "------------------------------------------------------------------------------------------\n",
            "+---------+-----+\n",
            "|RangoEdad|count|\n",
            "+---------+-----+\n",
            "|    21-40|    3|\n",
            "+---------+-----+\n",
            "\n",
            "Distribución de personas por rango de edad\n"
          ]
        }
      ]
    },
    {
      "cell_type": "code",
      "source": [
        "# Ejercicio 19: Contar cuántas personas tienen el mismo nombre\n",
        "\n",
        "print(\"Ejercicio 19: Contar cuántas personas tienen el mismo nombre\")\n",
        "print(\"-\" * 55)\n",
        "\n",
        "# Agrupar por nombre y contar ocurrencias\n",
        "nombres_repetidos = df.groupBy(\"Nombre\").count()\n",
        "nombres_repetidos.show()\n",
        "\n",
        "print(\"En este dataset, cada nombre aparece solo 1 vez\")"
      ],
      "metadata": {
        "colab": {
          "base_uri": "https://localhost:8080/"
        },
        "id": "NrKk6qbp2KGk",
        "outputId": "5bec7c41-264b-475e-f2d6-ba5fadef73d2"
      },
      "execution_count": 20,
      "outputs": [
        {
          "output_type": "stream",
          "name": "stdout",
          "text": [
            "Ejercicio 19: Contar cuántas personas tienen el mismo nombre\n",
            "-------------------------------------------------------\n",
            "+-------+-----+\n",
            "| Nombre|count|\n",
            "+-------+-----+\n",
            "|  Alice|    1|\n",
            "|Charlie|    1|\n",
            "|    Bob|    1|\n",
            "+-------+-----+\n",
            "\n",
            "En este dataset, cada nombre aparece solo 1 vez\n"
          ]
        }
      ]
    },
    {
      "cell_type": "code",
      "source": [
        "# Ejercicio 20: Concatenar las columnas \"Nombre\" y \"Ciudad\" en una nueva columna llamada \"InformacionPersonal\"\n",
        "\n",
        "print(\"Ejercicio 20: Concatenar las columnas 'Nombre' y 'Ciudad' en una nueva columna llamada 'InformacionPersonal'\")\n",
        "print(\"-\" * 105)\n",
        "\n",
        "# Concatenar Nombre y Ciudad con separador\n",
        "df_con_info = df.withColumn(\"InformacionPersonal\",\n",
        "                           concat(col(\"Nombre\"), lit(\" - \"), col(\"Ciudad\")))\n",
        "df_con_info.show()\n"
      ],
      "metadata": {
        "colab": {
          "base_uri": "https://localhost:8080/"
        },
        "id": "Sw244cPU2NX9",
        "outputId": "3b6cc4d0-1a4c-45f2-c7de-640a962af298"
      },
      "execution_count": 22,
      "outputs": [
        {
          "output_type": "stream",
          "name": "stdout",
          "text": [
            "Ejercicio 20: Concatenar las columnas 'Nombre' y 'Ciudad' en una nueva columna llamada 'InformacionPersonal'\n",
            "---------------------------------------------------------------------------------------------------------\n",
            "+-------+----+-----------+-------------------+\n",
            "| Nombre|Edad|     Ciudad|InformacionPersonal|\n",
            "+-------+----+-----------+-------------------+\n",
            "|  Alice|  25|   New York|   Alice - New York|\n",
            "|    Bob|  30|Los Angeles|  Bob - Los Angeles|\n",
            "|Charlie|  22|    Chicago|  Charlie - Chicago|\n",
            "+-------+----+-----------+-------------------+\n",
            "\n"
          ]
        }
      ]
    }
  ]
}